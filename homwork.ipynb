{
 "cells": [
  {
   "cell_type": "code",
   "execution_count": 6,
   "metadata": {},
   "outputs": [],
   "source": [
    "import math\n",
    "import statistics\n",
    "import numpy as np\n",
    "import scipy.stats\n",
    "import pandas as pd\n"
   ]
  },
  {
   "cell_type": "code",
   "execution_count": 7,
   "metadata": {},
   "outputs": [
    {
     "data": {
      "text/html": [
       "<div>\n",
       "<style scoped>\n",
       "    .dataframe tbody tr th:only-of-type {\n",
       "        vertical-align: middle;\n",
       "    }\n",
       "\n",
       "    .dataframe tbody tr th {\n",
       "        vertical-align: top;\n",
       "    }\n",
       "\n",
       "    .dataframe thead th {\n",
       "        text-align: right;\n",
       "    }\n",
       "</style>\n",
       "<table border=\"1\" class=\"dataframe\">\n",
       "  <thead>\n",
       "    <tr style=\"text-align: right;\">\n",
       "      <th></th>\n",
       "      <th>country</th>\n",
       "      <th>food_category</th>\n",
       "      <th>consumption</th>\n",
       "      <th>co2_emission</th>\n",
       "    </tr>\n",
       "  </thead>\n",
       "  <tbody>\n",
       "    <tr>\n",
       "      <th>1</th>\n",
       "      <td>Argentina</td>\n",
       "      <td>pork</td>\n",
       "      <td>10.51</td>\n",
       "      <td>37.20</td>\n",
       "    </tr>\n",
       "    <tr>\n",
       "      <th>2</th>\n",
       "      <td>Argentina</td>\n",
       "      <td>poultry</td>\n",
       "      <td>38.66</td>\n",
       "      <td>41.53</td>\n",
       "    </tr>\n",
       "    <tr>\n",
       "      <th>3</th>\n",
       "      <td>Argentina</td>\n",
       "      <td>beef</td>\n",
       "      <td>55.48</td>\n",
       "      <td>1712.00</td>\n",
       "    </tr>\n",
       "    <tr>\n",
       "      <th>4</th>\n",
       "      <td>Argentina</td>\n",
       "      <td>lamb_goat</td>\n",
       "      <td>1.56</td>\n",
       "      <td>54.63</td>\n",
       "    </tr>\n",
       "    <tr>\n",
       "      <th>5</th>\n",
       "      <td>Argentina</td>\n",
       "      <td>fish</td>\n",
       "      <td>4.36</td>\n",
       "      <td>6.96</td>\n",
       "    </tr>\n",
       "  </tbody>\n",
       "</table>\n",
       "</div>"
      ],
      "text/plain": [
       "     country food_category  consumption  co2_emission\n",
       "1  Argentina          pork        10.51         37.20\n",
       "2  Argentina       poultry        38.66         41.53\n",
       "3  Argentina          beef        55.48       1712.00\n",
       "4  Argentina     lamb_goat         1.56         54.63\n",
       "5  Argentina          fish         4.36          6.96"
      ]
     },
     "execution_count": 7,
     "metadata": {},
     "output_type": "execute_result"
    }
   ],
   "source": [
    "#read the data\n",
    "#./dataset/ is a path. Copy and paste the path of the CSV file in your computer to read the data. \n",
    "food_consumption = pd.read_csv('D:/codes/Class7-MathStats-Module-Week16/food_consumption.csv', index_col=0)\n",
    "food_consumption.head()"
   ]
  },
  {
   "cell_type": "code",
   "execution_count": 8,
   "metadata": {},
   "outputs": [],
   "source": [
    "#filter for Belgium\n",
    "be_consumption = food_consumption[food_consumption['country'] == 'Belgium']\n",
    "\n",
    "# Filter for USA\n",
    "usa_consumption = food_consumption[food_consumption['country'] == 'USA']"
   ]
  },
  {
   "cell_type": "code",
   "execution_count": 9,
   "metadata": {},
   "outputs": [
    {
     "name": "stdout",
     "output_type": "stream",
     "text": [
      "42.13272727272727\n",
      "12.59\n"
     ]
    }
   ],
   "source": [
    "# Q-1) Calculate mean and median consumption in Belgium\n",
    "\n",
    "print(be_consumption['consumption'].mean())\n",
    "print(be_consumption['consumption'].median())"
   ]
  },
  {
   "cell_type": "code",
   "execution_count": 10,
   "metadata": {},
   "outputs": [
    {
     "name": "stdout",
     "output_type": "stream",
     "text": [
      "44.650000000000006\n",
      "14.58\n"
     ]
    }
   ],
   "source": [
    "# Q-2) Calculate mean and median consumption of USA\n",
    "print(usa_consumption['consumption'].mean())\n",
    "print(usa_consumption['consumption'].median())"
   ]
  },
  {
   "cell_type": "code",
   "execution_count": 11,
   "metadata": {},
   "outputs": [],
   "source": [
    "# Work with both countries together\n",
    "be_and_usa = food_consumption[(food_consumption['country'] == 'Belgium') | \n",
    "                              (food_consumption['country'] == 'USA')]"
   ]
  },
  {
   "cell_type": "code",
   "execution_count": 21,
   "metadata": {},
   "outputs": [
    {
     "name": "stdout",
     "output_type": "stream",
     "text": [
      "              mean  median\n",
      "country                   \n",
      "Belgium  42.132727   12.59\n",
      "USA      44.650000   14.58\n"
     ]
    }
   ],
   "source": [
    "# Q-3) Group by country, select consumption column, and compute mean and median\n",
    "print(be_and_usa.groupby('country')['consumption'].agg([np.mean, np.median]))"
   ]
  },
  {
   "cell_type": "code",
   "execution_count": 22,
   "metadata": {},
   "outputs": [
    {
     "data": {
      "image/png": "[encoded data removed]",
      "text/plain": [
       "<Figure size 640x480 with 1 Axes>"
      ]
     },
     "metadata": {},
     "output_type": "display_data"
    }
   ],
   "source": [
    "rice_consumption = food_consumption[food_consumption['food_category'] == 'rice']\n",
    "\n",
    "# Q-4)Plot the histogram of co2_emission for rice\n",
    "rice_consumption['co2_emission'].hist();"
   ]
  },
  {
   "cell_type": "code",
   "execution_count": 25,
   "metadata": {},
   "outputs": [
    {
     "data": {
      "text/plain": [
       "mean      37.591615\n",
       "median    15.200000\n",
       "Name: co2_emission, dtype: float64"
      ]
     },
     "execution_count": 25,
     "metadata": {},
     "output_type": "execute_result"
    }
   ],
   "source": [
    "# Q-5) Calculate mean and median of co2_emission with .agg()\n",
    "rice_consumption['co2_emission'].agg([np.mean, np.median])"
   ]
  },
  {
   "cell_type": "code",
   "execution_count": 19,
   "metadata": {},
   "outputs": [
    {
     "name": "stdout",
     "output_type": "stream",
     "text": [
      "[   0.       3.54    11.026   25.59    99.978 1712.   ]\n"
     ]
    }
   ],
   "source": [
    "# Q-6) Calculate the quintiles of co2_emission\n",
    "co2_emission = [food_consumption['co2_emission']]\n",
    "print(np.quantile(co2_emission, np.linspace(0, 1, 6)))"
   ]
  },
  {
   "cell_type": "code",
   "execution_count": 23,
   "metadata": {},
   "outputs": [
    {
     "name": "stdout",
     "output_type": "stream",
     "text": [
      "                        var         std\n",
      "food_category                          \n",
      "beef           88748.408132  297.906710\n",
      "dairy          17671.891985  132.935669\n",
      "eggs              21.371819    4.622966\n",
      "fish             921.637349   30.358481\n",
      "lamb_goat      16475.518363  128.356996\n",
      "nuts              35.639652    5.969895\n",
      "pork            3094.963537   55.632396\n",
      "poultry          245.026801   15.653332\n",
      "rice            2281.376243   47.763754\n",
      "soybeans           0.879882    0.938020\n",
      "wheat             71.023937    8.427570\n"
     ]
    }
   ],
   "source": [
    "# Q-7) Calculate the variance and standard deviation of co2_emission for food_categories\n",
    "print(food_consumption.groupby('food_category')['co2_emission'].agg([np.var, np.std]))\n"
   ]
  },
  {
   "cell_type": "code",
   "execution_count": 24,
   "metadata": {},
   "outputs": [
    {
     "data": {
      "image/png": "[encoded data removed]",
      "text/plain": [
       "<Figure size 640x480 with 1 Axes>"
      ]
     },
     "metadata": {},
     "output_type": "display_data"
    }
   ],
   "source": [
    "# Q-8) Create histogram of co2_emission for food_category 'beef'\n",
    "food_consumption[food_consumption['food_category'] == 'beef']['co2_emission'].hist();"
   ]
  }
 ],
 "metadata": {
  "kernelspec": {
   "display_name": "Python 3",
   "language": "python",
   "name": "python3"
  },
  "language_info": {
   "codemirror_mode": {
    "name": "ipython",
    "version": 3
   },
   "file_extension": ".py",
   "mimetype": "text/x-python",
   "name": "python",
   "nbconvert_exporter": "python",
   "pygments_lexer": "ipython3",
   "version": "3.10.6"
  },
  "orig_nbformat": 4,
  "vscode": {
   "interpreter": {
    "hash": "bac75f92805af78f4c3d905bf4b7769093ac074cfb83aa4dc437efeee303fdc9"
   }
  }
 },
 "nbformat": 4,
 "nbformat_minor": 2
}
